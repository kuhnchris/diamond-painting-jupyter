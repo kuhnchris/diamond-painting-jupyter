{
 "cells": [
  {
   "cell_type": "code",
   "execution_count": 44,
   "source": [
    "imgname = \"example.png\"\n",
    "#'print at 254 dpi"
   ],
   "outputs": [],
   "metadata": {}
  },
  {
   "cell_type": "markdown",
   "source": [
    "---\n",
    "Below here be dragons, only touch the cells if you know what you are doing\n",
    "---"
   ],
   "metadata": {}
  },
  {
   "cell_type": "code",
   "execution_count": 175,
   "source": [
    "from PIL import Image, ImageFilter, ImageDraw, ImageDraw2, ImageFont, ImageOps\n",
    "from io import BytesIO\n",
    "from ipywidgets import interact, interactive, fixed, interact_manual\n",
    "from IPython import display\n",
    "from IPython.display import Markdown\n",
    "import matplotlib.pyplot as plt\n",
    "import ipywidgets as widgets\n",
    "import numpy as np\n",
    "import tempfile\n",
    "\n",
    "#for widgets\n",
    "%matplotlib nbagg\n",
    "\n",
    "#some setup\n",
    "def display_pil_image(im):\n",
    "   \"\"\"Displayhook function for PIL Images, rendered as PNG.\"\"\"\n",
    "\n",
    "   b = BytesIO()\n",
    "   im.save(b, format='png')\n",
    "   data = b.getvalue()\n",
    "\n",
    "   ip_img = display.Image(data=data, format='png', embed=True)\n",
    "   return ip_img._repr_png_()\n",
    "\n",
    "\n",
    "# register display func with PNG formatter:\n",
    "png_formatter = get_ipython().display_formatter.formatters['image/png']\n",
    "# display pil image (dpi)\n",
    "dpi = png_formatter.for_type(Image.Image, display_pil_image)\n"
   ],
   "outputs": [],
   "metadata": {}
  },
  {
   "cell_type": "code",
   "execution_count": 53,
   "source": [
    "\n",
    "colorOptions=[]\n",
    "o = widgets.IntSlider(min=1, max=32, value=8, description=\"Pixels\")\n",
    "u = widgets.IntSlider(min=1, max=32, value=8, description=\"Colors\")\n",
    "param_quantMode = widgets.Dropdown(description=\"Quantize Mode\", options=[Image.FASTOCTREE, Image.MAXCOVERAGE, Image.MEDIANCUT, Image.LIBIMAGEQUANT ])\n",
    "param_resizeMode = widgets.Dropdown(description=\"Resize Mode\", options=[Image.NEAREST, Image.BOX, Image.BILINEAR, Image.HAMMING, Image.BICUBIC, Image.LANCZOS ])\n",
    "param_fixedPalette = widgets.Checkbox(description='Fixed palette')\n",
    "param_useColorAsAlpha = widgets.Dropdown(description=\"Alpha Color\",options=colorOptions)\n",
    "param_showOutputColors = widgets.Checkbox(description='Show output')\n",
    "piximg = \"\"\n",
    "\n",
    "def pixelate(input_file_path, pixel_size):\n",
    "    image = Image.open(input_file_path)\n",
    "    image = image.resize(\n",
    "        (image.size[0] // pixel_size, image.size[1] // pixel_size),\n",
    "        param_resizeMode.value\n",
    "    ) \n",
    "    #image = image.resize(\n",
    "    #    (image.size[0] * pixel_size, image.size[1] * pixel_size),\n",
    "    #    param_resizeMode.value\n",
    "    #)\n",
    "    return image\n",
    " \n",
    "\n",
    "def convertImage(c,d,e,f,g,h,i):\n",
    "    piximg = pixelate(imgname,o.value)\n",
    "\n",
    "    if param_fixedPalette.value:\n",
    "        #palettedata =  [255,255,255,255,255,0]\n",
    "        palettedata =  [255,255,255,93,143,241,233,136,56,239,148,84 ]\n",
    "        while len(palettedata) < 768:\n",
    "            palettedata.append(0)\n",
    "            palettedata.append(0)\n",
    "            palettedata.append(0)\n",
    "        palimage = Image.new('P', (12, 12))\n",
    "        palimage.putpalette(palettedata)\n",
    "        piximg = piximg.quantize(method=param_quantMode.value, colors=u.value, dither=Image.NONE, palette=palimage)\n",
    "    else:\n",
    "        piximg = piximg.quantize(method=param_quantMode.value,dither=0,colors=u.value,kmeans=1)\n",
    "\n",
    "    piximg = piximg.convert(\"RGBA\")\n",
    "    na = np.array(piximg) \n",
    "    colours, counts = np.unique(na.reshape(-1,4), axis=0, return_counts=1)    \n",
    "    mdtxt = \"<pre>\"\n",
    "    colorOptions.clear()\n",
    "    colorOptions.append(\"None\")\n",
    "    for a in colours:\n",
    "        colour = \"%0.2X%0.2X%0.2X\" % (a[0], a[1], a[2])\n",
    "        colStr = \"#{:02x}{:02x}{:02x}|{:02x}\".format(a[0],a[1],a[2],a[3])\n",
    "        mdtxt = mdtxt + colStr +\" (\"+\"<span style='color: #\"+colour+\"'>this</span>)<BR>\";\n",
    "        colorOptions.append(colStr)\n",
    "    param_useColorAsAlpha.options = colorOptions\n",
    "    mdtxt = mdtxt + \"</pre>\"\n",
    "    if h:\n",
    "        display.display(piximg)\n",
    "        display.display(Markdown(mdtxt))\n",
    "\n",
    "        \n",
    "    return piximg\n",
    "    #print(colours)\n",
    "    \n",
    "widgets.interact(convertImage, c=o, d=u, e=param_fixedPalette, f=param_quantMode, g=param_resizeMode, h=param_showOutputColors, i=param_useColorAsAlpha)\n"
   ],
   "outputs": [
    {
     "output_type": "display_data",
     "data": {
      "text/plain": [
       "interactive(children=(IntSlider(value=8, description='Pixels', max=32, min=1), IntSlider(value=8, description=…"
      ],
      "application/vnd.jupyter.widget-view+json": {
       "version_major": 2,
       "version_minor": 0,
       "model_id": "9bcaed39b29e4571aff3c58165e025d8"
      }
     },
     "metadata": {}
    },
    {
     "output_type": "execute_result",
     "data": {
      "text/plain": [
       "<function __main__.convertImage(c, d, e, f, g, h, i)>"
      ]
     },
     "metadata": {},
     "execution_count": 53
    }
   ],
   "metadata": {}
  },
  {
   "cell_type": "code",
   "execution_count": 54,
   "source": [
    "piximg = convertImage(c=o, d=u, e=param_fixedPalette, f=param_quantMode, g=param_resizeMode, h=False, i=param_useColorAsAlpha)\n",
    "pixarr = np.array(piximg)\n",
    "pixpal = {}\n",
    "pixidx = 0\n",
    "pixlit = \"abcdefghijklmnopqrstuvwxyz1234567890!§$%&/()#+\\\\\\\"-.:\"\n",
    "\n",
    "mdtxt = \"<pre>\"\n",
    "print(\"Alpha: \",param_useColorAsAlpha.value)\n",
    "for x in pixarr:\n",
    "    for a in x:\n",
    "        colStr = \"#{:02x}{:02x}{:02x}|{:02x}\".format(a[0],a[1],a[2],a[3])\n",
    "        colour = \"%0.2X%0.2X%0.2X\" % (a[0], a[1], a[2])\n",
    "        out = \"?\"\n",
    "        if colStr in pixpal:\n",
    "            out = pixpal[colStr]\n",
    "        else:\n",
    "            pixpal[colStr] = str(pixidx)\n",
    "            pixidx = pixidx+1\n",
    "            out = pixpal[colStr]\n",
    "        out = pixlit[int(out)]\n",
    "        #print(colStr)\n",
    "        if ( a[3] == 0 ) or ( colStr == param_useColorAsAlpha.value ):\n",
    "            out = \" \"\n",
    "        mdtxt = mdtxt + \"<span style='color: #\"+colour+\"'>\"+out+\"</span>\"\n",
    "    mdtxt = mdtxt+\"<BR>\"\n",
    "\n",
    "mdtxt = mdtxt + \"</pre>\"\n",
    "display.display(Markdown(mdtxt))\n",
    "    \n",
    "    "
   ],
   "outputs": [
    {
     "output_type": "stream",
     "name": "stdout",
     "text": [
      "Alpha:  None\n"
     ]
    },
    {
     "output_type": "display_data",
     "data": {
      "text/plain": [
       "<IPython.core.display.Markdown object>"
      ],
      "text/markdown": [
       "<pre><span style='color: #BCBCBC'>a</span><span style='color: #000000'>b</span><span style='color: #BCBCBC'>a</span><span style='color: #000000'>b</span><span style='color: #BCBCBC'>a</span><span style='color: #000000'>b</span><span style='color: #BCBCBC'>a</span><span style='color: #000000'>b</span><span style='color: #BCBCBC'>a</span><span style='color: #000000'>b</span><BR><span style='color: #000000'>b</span><span style='color: #BCBCBC'>a</span><span style='color: #000000'>b</span><span style='color: #BCBCBC'>a</span><span style='color: #000000'>b</span><span style='color: #BCBCBC'>a</span><span style='color: #000000'>b</span><span style='color: #BCBCBC'>a</span><span style='color: #000000'>b</span><span style='color: #BCBCBC'>a</span><BR><span style='color: #BCBCBC'>a</span><span style='color: #000000'>b</span><span style='color: #BCBCBC'>a</span><span style='color: #000000'>b</span><span style='color: #BCBCBC'>a</span><span style='color: #000000'>b</span><span style='color: #BCBCBC'>a</span><span style='color: #000000'>b</span><span style='color: #BCBCBC'>a</span><span style='color: #000000'>b</span><BR><span style='color: #000000'>b</span><span style='color: #BCBCBC'>a</span><span style='color: #000000'>b</span><span style='color: #BCBCBC'>a</span><span style='color: #000000'>b</span><span style='color: #BCBCBC'>a</span><span style='color: #000000'>b</span><span style='color: #BCBCBC'>a</span><span style='color: #000000'>b</span><span style='color: #BCBCBC'>a</span><BR><span style='color: #BCBCBC'>a</span><span style='color: #000000'>b</span><span style='color: #BCBCBC'>a</span><span style='color: #000000'>b</span><span style='color: #BCBCBC'>a</span><span style='color: #000000'>b</span><span style='color: #BCBCBC'>a</span><span style='color: #000000'>b</span><span style='color: #BCBCBC'>a</span><span style='color: #000000'>b</span><BR><span style='color: #000000'>b</span><span style='color: #BCBCBC'>a</span><span style='color: #000000'>b</span><span style='color: #BCBCBC'>a</span><span style='color: #000000'>b</span><span style='color: #BCBCBC'>a</span><span style='color: #000000'>b</span><span style='color: #BCBCBC'>a</span><span style='color: #000000'>b</span><span style='color: #BCBCBC'>a</span><BR><span style='color: #BCBCBC'>a</span><span style='color: #000000'>b</span><span style='color: #BCBCBC'>a</span><span style='color: #000000'>b</span><span style='color: #BCBCBC'>a</span><span style='color: #000000'>b</span><span style='color: #BCBCBC'>a</span><span style='color: #000000'>b</span><span style='color: #BCBCBC'>a</span><span style='color: #000000'>b</span><BR><span style='color: #000000'>b</span><span style='color: #BCBCBC'>a</span><span style='color: #000000'>b</span><span style='color: #BCBCBC'>a</span><span style='color: #000000'>b</span><span style='color: #BCBCBC'>a</span><span style='color: #000000'>b</span><span style='color: #BCBCBC'>a</span><span style='color: #000000'>b</span><span style='color: #BCBCBC'>a</span><BR><span style='color: #BCBCBC'>a</span><span style='color: #000000'>b</span><span style='color: #BCBCBC'>a</span><span style='color: #000000'>b</span><span style='color: #BCBCBC'>a</span><span style='color: #000000'>b</span><span style='color: #BCBCBC'>a</span><span style='color: #000000'>b</span><span style='color: #BCBCBC'>a</span><span style='color: #000000'>b</span><BR><span style='color: #000000'>b</span><span style='color: #BCBCBC'>a</span><span style='color: #000000'>b</span><span style='color: #BCBCBC'>a</span><span style='color: #000000'>b</span><span style='color: #BCBCBC'>a</span><span style='color: #000000'>b</span><span style='color: #BCBCBC'>a</span><span style='color: #000000'>b</span><span style='color: #BCBCBC'>a</span><BR></pre>"
      ]
     },
     "metadata": {}
    }
   ],
   "metadata": {}
  },
  {
   "cell_type": "code",
   "execution_count": 176,
   "source": [
    "piximg = convertImage(c=o, d=u, e=param_fixedPalette, f=param_quantMode, g=param_resizeMode, h=False, i=param_useColorAsAlpha)\n",
    "pixarr = np.array(piximg)\n",
    "pixpal = {}\n",
    "pixidx = 0\n",
    "pixlit = \"abcdefghijklmnopqrstuvwxyz1234567890!§$%&/()#+\\\\\\\"-.:\"\n",
    "diamondSize = 28\n",
    "fontSize = 12\n",
    "\n",
    "fnt = ImageFont.truetype(\"NotoSans-Black.ttf\", fontSize)\n",
    "newpix = Image.new('RGB',(piximg.size[0]*diamondSize,piximg.size[1]*diamondSize))\n",
    "\n",
    "newpixdc = ImageDraw.Draw(newpix)\n",
    "newpixdc.rectangle((0,0,piximg.size[0]*diamondSize,piximg.size[1]*diamondSize), fill=(255,255,255))\n",
    "\n",
    "xcnt = 0\n",
    "ycnt = 0\n",
    "for x in pixarr:\n",
    "    xcnt = 0\n",
    "    for a in x:\n",
    "        colStr = \"#{:02x}{:02x}{:02x}|{:02x}\".format(a[0],a[1],a[2],a[3])        \n",
    "        colour = \"%0.2X%0.2X%0.2X\" % (a[0], a[1], a[2])\n",
    "        out = \"?\"\n",
    "        if colour in pixpal:\n",
    "            out = pixpal[colour]\n",
    "        else:\n",
    "            pixpal[colour] = str(pixidx)\n",
    "            pixidx = pixidx+1\n",
    "            out = pixpal[colour]\n",
    "        out = pixlit[int(out)]\n",
    "\n",
    "        if ( a[3] != 0 ) and ( colStr != param_useColorAsAlpha.value ):\n",
    "            invcolor = (255-a[0],255-a[1],255-a[2])\n",
    "            newpixdc.ellipse(((xcnt*diamondSize,ycnt*diamondSize),(xcnt*diamondSize+(diamondSize),ycnt*diamondSize+diamondSize)),(a[0],a[1],a[2]),(0,0,0))\n",
    "            newpixdc.text((xcnt*diamondSize+(diamondSize/2),ycnt*diamondSize+(diamondSize/2)),out,invcolor,font=fnt,anchor=\"mm\")\n",
    "\n",
    "\n",
    "        xcnt = xcnt + 1\n",
    "    ycnt = ycnt + 1\n",
    "\n",
    "def set_image_dpi_resize(image):\n",
    "    \"\"\"\n",
    "    Rescaling image to 300dpi while resizing\n",
    "    :param image: An image\n",
    "    :return: A rescaled image\n",
    "    \"\"\"\n",
    "    length_x, width_y = image.size\n",
    "    factor = min(1, float(1024.0 / length_x))\n",
    "    size = int(factor * length_x), int(factor * width_y)\n",
    "    image_resize = image.resize(size, Image.ANTIALIAS)\n",
    "    temp_file = tempfile.NamedTemporaryFile(delete=False, suffix='1.png')\n",
    "    temp_filename = temp_file.name\n",
    "    image_resize.save(temp_filename, dpi=(300, 300))\n",
    "    return temp_filename\n",
    "\n",
    "display.display(set_image_dpi_resize(newpix))"
   ],
   "outputs": [
    {
     "output_type": "display_data",
     "data": {
      "text/plain": [
       "'/tmp/tmp_3lgaibo1.png'"
      ]
     },
     "metadata": {}
    }
   ],
   "metadata": {}
  },
  {
   "cell_type": "code",
   "execution_count": 173,
   "source": [
    "def autocrop(image):\n",
    "    image_data = np.asarray(image)\n",
    "    image_data_bw = image_data.max(axis=2)\n",
    "    non_empty_columns = np.where(image_data_bw.min(axis=0)<255)[0]\n",
    "    non_empty_rows = np.where(image_data_bw.min(axis=1)<255)[0]\n",
    "    cropBox = (min(non_empty_rows), max(non_empty_rows), min(non_empty_columns), max(non_empty_columns))\n",
    "\n",
    "    image_data_new = image_data[cropBox[0]:cropBox[1]+1, cropBox[2]:cropBox[3]+1 , :]\n",
    "\n",
    "    new_image = Image.fromarray(image_data_new)\n",
    "    return new_image\n",
    "\n",
    "fnt = ImageFont.truetype(\"NotoSans-Black.ttf\", fontSize)\n",
    "newpix = Image.new('RGB',(piximg.size[0]*diamondSize,piximg.size[1]*diamondSize))\n",
    "\n",
    "newpixdc = ImageDraw.Draw(newpix)\n",
    "newpixdc.rectangle((0,0,piximg.size[0]*diamondSize,piximg.size[1]*diamondSize), fill=(255,255,255))\n",
    "\n",
    "\n",
    "xWidth = 100\n",
    "xLeft = 20\n",
    "yPos = 0\n",
    "yHeight = 20\n",
    "\n",
    "newpixdc.rectangle((0,yPos,xWidth,yPos+yHeight),fill=None,outline=(0,0,0))\n",
    "newpixdc.rectangle((0,yPos,xLeft,yPos+yHeight),fill=None,outline=(0,0,0))\n",
    "newpixdc.text((10,10),\"@\",(0,0,0),font=fnt,anchor=\"mm\")\n",
    "newpixdc.text((xLeft+4,10),\"Color Code\",(0,0,0),font=fnt,anchor=\"lm\")\n",
    "\n",
    "yPos = yPos + yHeight\n",
    "for colour in pixpal:\n",
    "    a=(int(colour[0:2],16),int(colour[2:4],16),int(colour[4:6],16))\n",
    "    invcolor = (255-a[0],255-a[1],255-a[2])\n",
    "    newpixdc.rectangle((0,yPos,xWidth,yPos+yHeight),fill=None,outline=(0,0,0))\n",
    "    newpixdc.rectangle((0,yPos,xLeft,yPos+yHeight),fill=\"#\"+colour,outline=(0,0,0))\n",
    "    newpixdc.text((10,yPos+yHeight/2),pixlit[int(pixpal[colour])],invcolor,font=fnt,anchor=\"mm\")\n",
    "    newpixdc.text((xLeft+4,yPos+yHeight/2),\"#\"+colour,(0,0,0),font=fnt,anchor=\"lm\")\n",
    "    yPos = yPos + yHeight\n",
    "newpix = autocrop(newpix)\n",
    "#newpixdc.rectangle((0,0,100,20),fill=None,outline=(0,0,0))\n",
    "#newpixdc.text((80,10),\"a\",invcolor,font=fnt,anchor=\"mm\")\n",
    "\n",
    "display.display(newpix)"
   ],
   "outputs": [
    {
     "output_type": "display_data",
     "data": {
      "text/plain": [
       "<PIL.Image.Image image mode=RGB size=101x61 at 0x7F5D099AB400>"
      ],
      "image/png": "[encoded data removed]"
     },
     "metadata": {}
    }
   ],
   "metadata": {}
  },
  {
   "cell_type": "markdown",
   "source": [
    "---\n",
    "Below this point are only tests I ran"
   ],
   "metadata": {}
  },
  {
   "cell_type": "code",
   "execution_count": null,
   "source": [
    "print(piximg.size)\n",
    "#newpix = Image.new('RGB',(piximg.size[0]*40,piximg.size[1]*40))\n",
    "newpix = Image.new('RGB',(80,80))\n",
    "fnt = ImageFont.truetype(\"NotoSans-Black.ttf\", 25)\n",
    "\n",
    "x = ImageDraw.Draw(newpix)\n",
    "x.ellipse(((0,0),(40,40)),(128,128,128),(128,128,128))\n",
    "x.text((20,20),\"P\",(255,255,0),font=fnt,anchor=\"mm\")\n",
    "\n",
    "display.display(newpix)"
   ],
   "outputs": [],
   "metadata": {}
  },
  {
   "cell_type": "code",
   "execution_count": 168,
   "source": [
    "a=\"BCBCBC\"\n",
    "print((int(a[0:2],16),int(a[2:4],16),int(a[4:6],16)))"
   ],
   "outputs": [
    {
     "output_type": "stream",
     "name": "stdout",
     "text": [
      "(188, 188, 188)\n"
     ]
    }
   ],
   "metadata": {}
  },
  {
   "cell_type": "code",
   "execution_count": 153,
   "source": [
    "image_data = np.asarray(newpix)\n",
    "image_data_bw = image_data.max(axis=2)\n",
    "#print(image_data_bw.min(axis=1))\n",
    "print(np.where(image_data_bw.min(axis=0)<255)[0])\n",
    "print(np.where(image_data_bw.min(axis=1)<255)[0])\n",
    "cropBox = (0,60,0,100)\n",
    "image_data_new = image_data[cropBox[0]:cropBox[1]+1, cropBox[2]:cropBox[3]+1 , :]\n",
    "display.display(Image.fromarray(image_data_new))"
   ],
   "outputs": [
    {
     "output_type": "stream",
     "name": "stdout",
     "text": [
      "[  0   1   2   3   4   5   6   7   8   9  10  11  12  13  14  15  16  17\n",
      "  18  19  20  21  22  23  24  25  26  27  28  29  30  31  32  33  34  35\n",
      "  36  37  38  39  40  41  42  43  44  45  46  47  48  49  50  51  52  53\n",
      "  54  55  56  57  58  59  60  61  62  63  64  65  66  67  68  69  70  71\n",
      "  72  73  74  75  76  77  78  79  80  81  82  83  84  85  86  87  88  89\n",
      "  90  91  92  93  94  95  96  97  98  99 100]\n",
      "[ 0  1  2  3  4  5  6  7  8  9 10 11 12 13 14 15 16 17 18 19 20 21 22 23\n",
      " 24 25 26 27 28 29 30 31 32 33 34 35 36 37 38 39 40 41 42 43 44 45 46 47\n",
      " 48 49 50 51 52 53 54 55 56 57 58 59 60]\n"
     ]
    },
    {
     "output_type": "display_data",
     "data": {
      "text/plain": [
       "<PIL.Image.Image image mode=RGB size=101x61 at 0x7F5D09A001F0>"
      ],
      "image/png": "[encoded data removed]"
     },
     "metadata": {}
    }
   ],
   "metadata": {}
  }
 ],
 "metadata": {
  "kernelspec": {
   "name": "python3",
   "display_name": "Python 3.9.5 64-bit ('venv': venv)"
  },
  "language_info": {
   "name": "python",
   "version": "3.9.5",
   "mimetype": "text/x-python",
   "codemirror_mode": {
    "name": "ipython",
    "version": 3
   },
   "pygments_lexer": "ipython3",
   "nbconvert_exporter": "python",
   "file_extension": ".py"
  },
  "interpreter": {
   "hash": "9dec07ac8cdc37181ed4e14df3bce4b1bb8cefbe7cf0c07d95af5822e40a183a"
  }
 },
 "nbformat": 4,
 "nbformat_minor": 2
}